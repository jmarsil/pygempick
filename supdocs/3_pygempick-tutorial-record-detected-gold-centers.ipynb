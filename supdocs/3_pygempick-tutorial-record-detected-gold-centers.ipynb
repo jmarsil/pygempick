{
 "cells": [
  {
   "cell_type": "markdown",
   "metadata": {},
   "source": [
    "# pyGemPick Tutorial 3: Outputing Detected Gold Particle Centers\n",
    "\n",
    "## How to Output Gold Particle Centers To Use In Future Spatial-Statistical Analysis of Gold Particle Cross Correlation\n",
    "\n",
    "In this tutorial we'll be using the **bin2df( )** function found in the pygempick.spatialstats package to record the x,y centers of each detected keypoint in each image!\n",
    "\n",
    "```python\n",
    "\n",
    "def bin2df(images):\n",
    "    \n",
    "    i = 0  #image counter\n",
    "    j = 0 #total particles\n",
    "    \n",
    "    #difine filtering paramaters \n",
    "    pclap = 25 #HCLAP anchor value\n",
    "    plog  = 20 #HLOG anchor value \n",
    "    \n",
    "    #make an empty dataframe, which will be filled with x,y centers of keypoints detected\n",
    "    data = pd.DataFrame()\n",
    "    \n",
    "    #Change picking parameters per test set...\n",
    "    #Will ask you to fill in these parameters - keep it same as parameters used in Tutorial2\n",
    "    \n",
    "    minArea = np.int(input('Min Area to Detect: '))\n",
    "    minCirc = np.float(input('Min Circularity: '))\n",
    "    minCon = np.float(input('Min Concavity: '))\n",
    "    minIner = np.float(input('Min Inertial Ratio: '))\n",
    "    \n",
    "    for image in images:\n",
    "        \n",
    "        orig_img = cv2.imread(image) ##reads specific test file\n",
    "        output1 = py.hclap_filt(pclap, orig_img, 'no') #High Contrast Laplace Filtering!\n",
    "        output2 = py.hlog_filt(plog, orig_img, 'no')\n",
    "\n",
    "        #image, minArea, minCirc, minConv, minIner, minThres\n",
    "        #use these parameters >> keypoints1 = py.pick(output1, 37, .71, .5 , .5, 0) \n",
    "        keypoints1 = py.pick(output1, minArea, minCirc, minCon , minIner, 0) \n",
    "        keypoints2 = py.pick(output2, minArea, minCirc, minCon , minIner, 0)\n",
    "        \n",
    "        #this function removes duplicated detections\n",
    "        keypoints1, dup1 = py.key_filt(keypoints1, keypoints2)\n",
    "        #combine the two lists of keypoints\n",
    "        keypoints = keypoints1 + keypoints2\n",
    "        \n",
    "        #record the subsequent keypoint centers and update the pandas dataframe\n",
    "        data, k = record_kp(i,keypoints,data)\n",
    "        \n",
    "        j += k\n",
    "            \n",
    "        i+=1\n",
    "\n",
    "    return data, j #returns data as df and total particles accounted...\n",
    "    \n",
    "```\n",
    "\n"
   ]
  },
  {
   "cell_type": "code",
   "execution_count": 1,
   "metadata": {},
   "outputs": [],
   "source": [
    "#import required modules\n",
    "import glob\n",
    "import pygempick.spatialstats as spa\n"
   ]
  },
  {
   "cell_type": "code",
   "execution_count": 2,
   "metadata": {},
   "outputs": [],
   "source": [
    "images = glob.glob('/home/joseph/Documents/pygempick/samples/compressed/*.jpg') "
   ]
  },
  {
   "cell_type": "code",
   "execution_count": 6,
   "metadata": {
    "scrolled": true
   },
   "outputs": [
    {
     "name": "stdout",
     "output_type": "stream",
     "text": [
      "Min Area to Detect: 37\n",
      "Min Circularity: .71\n",
      "Min Concavity: .5\n",
      "Min Inertial Ratio: .5\n",
      "Name Your File!detected.csv\n",
      "Counted 64 gold particle in 13 images.\n"
     ]
    }
   ],
   "source": [
    "N = len(images)\n",
    "data, gold = spa.bin2df(images)\n",
    "file = input(\"Name Your File!\")\n",
    "data.to_csv('/home/joseph/Documents/pygempick/supdocs/{}'.format(file), index=False)\n",
    "print('Counted {} gold particle in {} images.'.format(gold,N))"
   ]
  },
  {
   "cell_type": "code",
   "execution_count": 7,
   "metadata": {},
   "outputs": [],
   "source": [
    "# this outputs a csv file which you cn find in the folder above or save to the folder of your choice!\n",
    "# this dataframe (or file) can be used to calculate the spatial-point distribution of the gold \n",
    "# particle positions on these EM mircrographs!"
   ]
  }
 ],
 "metadata": {
  "kernelspec": {
   "display_name": "Python [default]",
   "language": "python",
   "name": "python3"
  },
  "language_info": {
   "codemirror_mode": {
    "name": "ipython",
    "version": 3
   },
   "file_extension": ".py",
   "mimetype": "text/x-python",
   "name": "python",
   "nbconvert_exporter": "python",
   "pygments_lexer": "ipython3",
   "version": "3.5.4"
  }
 },
 "nbformat": 4,
 "nbformat_minor": 2
}
